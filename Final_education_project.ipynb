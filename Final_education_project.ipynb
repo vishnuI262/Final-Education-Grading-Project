{
  "nbformat": 4,
  "nbformat_minor": 0,
  "metadata": {
    "colab": {
      "provenance": []
    },
    "kernelspec": {
      "name": "python3",
      "display_name": "Python 3"
    },
    "language_info": {
      "name": "python"
    }
  },
  "cells": [
    {
      "cell_type": "code",
      "source": [
        "import requests\n",
        "import zipfile\n",
        "import io\n",
        "import pandas as pd\n",
        "from sklearn.model_selection import train_test_split\n",
        "from sklearn.preprocessing import LabelEncoder, StandardScaler\n",
        "from sklearn.linear_model import LogisticRegression  # Using Logistic Regression\n",
        "from sklearn.metrics import classification_report, accuracy_score\n",
        "import matplotlib.pyplot as plt\n",
        "import numpy as np\n",
        "\n",
        "# Downloading and loading data\n",
        "zip_url = 'https://archive.ics.uci.edu/ml/machine-learning-databases/00320/student.zip'\n",
        "response = requests.get(zip_url)\n",
        "if response.status_code == 200:\n",
        "    with zipfile.ZipFile(io.BytesIO(response.content)) as thezip:\n",
        "        with thezip.open('student-por.csv') as myfile:\n",
        "            df_por = pd.read_csv(myfile, sep=';')\n",
        "        with thezip.open('student-mat.csv') as myfile:\n",
        "            df_mat = pd.read_csv(myfile, sep=';')\n",
        "    df = pd.concat([df_por, df_mat], axis=0)\n",
        "else:\n",
        "    print(\"Failed to download the file\")\n"
      ],
      "metadata": {
        "id": "mN9j3uPXsmpP"
      },
      "execution_count": null,
      "outputs": []
    },
    {
      "cell_type": "code",
      "source": [
        "#ADD EDA steps\n",
        "# Display first few rows of the dataset\n",
        "print(df.head())\n",
        "\n",
        "# Summary statistics\n",
        "print(df.describe())\n",
        "\n",
        "# Check for missing values\n",
        "print(df.isnull().sum())\n",
        "\n",
        "# Data type information\n",
        "print(df.info())\n",
        "\n",
        "# Distribution of the target variable 'G3'\n",
        "plt.hist(df['G3'])\n",
        "plt.title('Distribution of Final Grade (G3)')\n",
        "plt.xlabel('Final Grade')\n",
        "plt.ylabel('Frequency')\n",
        "plt.show()"
      ],
      "metadata": {
        "colab": {
          "base_uri": "https://localhost:8080/",
          "height": 1000
        },
        "id": "7R4JmO4Tn8uh",
        "outputId": "e7bae691-0f17-4777-aca1-9c3eeacd7b7d"
      },
      "execution_count": null,
      "outputs": [
        {
          "output_type": "stream",
          "name": "stdout",
          "text": [
            "  school sex  age address famsize Pstatus  Medu  Fedu     Mjob      Fjob  ...  \\\n",
            "0     GP   F   18       U     GT3       A     4     4  at_home   teacher  ...   \n",
            "1     GP   F   17       U     GT3       T     1     1  at_home     other  ...   \n",
            "2     GP   F   15       U     LE3       T     1     1  at_home     other  ...   \n",
            "3     GP   F   15       U     GT3       T     4     2   health  services  ...   \n",
            "4     GP   F   16       U     GT3       T     3     3    other     other  ...   \n",
            "\n",
            "  famrel freetime  goout  Dalc  Walc health absences  G1  G2  G3  \n",
            "0      4        3      4     1     1      3        4   0  11  11  \n",
            "1      5        3      3     1     1      3        2   9  11  11  \n",
            "2      4        3      2     2     3      3        6  12  13  12  \n",
            "3      3        2      2     1     1      5        0  14  14  14  \n",
            "4      4        3      2     1     2      5        0  11  13  13  \n",
            "\n",
            "[5 rows x 33 columns]\n",
            "               age         Medu         Fedu   traveltime    studytime  \\\n",
            "count  1044.000000  1044.000000  1044.000000  1044.000000  1044.000000   \n",
            "mean     16.726054     2.603448     2.387931     1.522989     1.970307   \n",
            "std       1.239975     1.124907     1.099938     0.731727     0.834353   \n",
            "min      15.000000     0.000000     0.000000     1.000000     1.000000   \n",
            "25%      16.000000     2.000000     1.000000     1.000000     1.000000   \n",
            "50%      17.000000     3.000000     2.000000     1.000000     2.000000   \n",
            "75%      18.000000     4.000000     3.000000     2.000000     2.000000   \n",
            "max      22.000000     4.000000     4.000000     4.000000     4.000000   \n",
            "\n",
            "          failures       famrel     freetime        goout         Dalc  \\\n",
            "count  1044.000000  1044.000000  1044.000000  1044.000000  1044.000000   \n",
            "mean      0.264368     3.935824     3.201149     3.156130     1.494253   \n",
            "std       0.656142     0.933401     1.031507     1.152575     0.911714   \n",
            "min       0.000000     1.000000     1.000000     1.000000     1.000000   \n",
            "25%       0.000000     4.000000     3.000000     2.000000     1.000000   \n",
            "50%       0.000000     4.000000     3.000000     3.000000     1.000000   \n",
            "75%       0.000000     5.000000     4.000000     4.000000     2.000000   \n",
            "max       3.000000     5.000000     5.000000     5.000000     5.000000   \n",
            "\n",
            "              Walc       health     absences           G1           G2  \\\n",
            "count  1044.000000  1044.000000  1044.000000  1044.000000  1044.000000   \n",
            "mean      2.284483     3.543103     4.434866    11.213602    11.246169   \n",
            "std       1.285105     1.424703     6.210017     2.983394     3.285071   \n",
            "min       1.000000     1.000000     0.000000     0.000000     0.000000   \n",
            "25%       1.000000     3.000000     0.000000     9.000000     9.000000   \n",
            "50%       2.000000     4.000000     2.000000    11.000000    11.000000   \n",
            "75%       3.000000     5.000000     6.000000    13.000000    13.000000   \n",
            "max       5.000000     5.000000    75.000000    19.000000    19.000000   \n",
            "\n",
            "                G3  \n",
            "count  1044.000000  \n",
            "mean     11.341954  \n",
            "std       3.864796  \n",
            "min       0.000000  \n",
            "25%      10.000000  \n",
            "50%      11.000000  \n",
            "75%      14.000000  \n",
            "max      20.000000  \n",
            "school        0\n",
            "sex           0\n",
            "age           0\n",
            "address       0\n",
            "famsize       0\n",
            "Pstatus       0\n",
            "Medu          0\n",
            "Fedu          0\n",
            "Mjob          0\n",
            "Fjob          0\n",
            "reason        0\n",
            "guardian      0\n",
            "traveltime    0\n",
            "studytime     0\n",
            "failures      0\n",
            "schoolsup     0\n",
            "famsup        0\n",
            "paid          0\n",
            "activities    0\n",
            "nursery       0\n",
            "higher        0\n",
            "internet      0\n",
            "romantic      0\n",
            "famrel        0\n",
            "freetime      0\n",
            "goout         0\n",
            "Dalc          0\n",
            "Walc          0\n",
            "health        0\n",
            "absences      0\n",
            "G1            0\n",
            "G2            0\n",
            "G3            0\n",
            "dtype: int64\n",
            "<class 'pandas.core.frame.DataFrame'>\n",
            "Index: 1044 entries, 0 to 394\n",
            "Data columns (total 33 columns):\n",
            " #   Column      Non-Null Count  Dtype \n",
            "---  ------      --------------  ----- \n",
            " 0   school      1044 non-null   object\n",
            " 1   sex         1044 non-null   object\n",
            " 2   age         1044 non-null   int64 \n",
            " 3   address     1044 non-null   object\n",
            " 4   famsize     1044 non-null   object\n",
            " 5   Pstatus     1044 non-null   object\n",
            " 6   Medu        1044 non-null   int64 \n",
            " 7   Fedu        1044 non-null   int64 \n",
            " 8   Mjob        1044 non-null   object\n",
            " 9   Fjob        1044 non-null   object\n",
            " 10  reason      1044 non-null   object\n",
            " 11  guardian    1044 non-null   object\n",
            " 12  traveltime  1044 non-null   int64 \n",
            " 13  studytime   1044 non-null   int64 \n",
            " 14  failures    1044 non-null   int64 \n",
            " 15  schoolsup   1044 non-null   object\n",
            " 16  famsup      1044 non-null   object\n",
            " 17  paid        1044 non-null   object\n",
            " 18  activities  1044 non-null   object\n",
            " 19  nursery     1044 non-null   object\n",
            " 20  higher      1044 non-null   object\n",
            " 21  internet    1044 non-null   object\n",
            " 22  romantic    1044 non-null   object\n",
            " 23  famrel      1044 non-null   int64 \n",
            " 24  freetime    1044 non-null   int64 \n",
            " 25  goout       1044 non-null   int64 \n",
            " 26  Dalc        1044 non-null   int64 \n",
            " 27  Walc        1044 non-null   int64 \n",
            " 28  health      1044 non-null   int64 \n",
            " 29  absences    1044 non-null   int64 \n",
            " 30  G1          1044 non-null   int64 \n",
            " 31  G2          1044 non-null   int64 \n",
            " 32  G3          1044 non-null   int64 \n",
            "dtypes: int64(16), object(17)\n",
            "memory usage: 277.3+ KB\n",
            "None\n"
          ]
        },
        {
          "output_type": "display_data",
          "data": {
            "text/plain": [
              "<Figure size 640x480 with 1 Axes>"
            ],
            "image/png": "[encoded data removed]"
          },
          "metadata": {}
        }
      ]
    },
    {
      "cell_type": "code",
      "source": [
        "import pandas as pd\n",
        "from sklearn.preprocessing import LabelEncoder, StandardScaler\n",
        "from sklearn.model_selection import train_test_split\n",
        "\n",
        "# Discretizing the 'G3' variable for classification\n",
        "threshold = 8\n",
        "df['G3'] = (df['G3'] >= threshold).astype(int)\n",
        "\n",
        "# Handle missing values\n",
        "df.fillna(df.mean(numeric_only=True), inplace=True)  # For numeric columns\n",
        "for column in df.select_dtypes(include=['object']).columns:\n",
        "    df[column].fillna(df[column].mode()[0], inplace=True)  # For categorical columns\n",
        "\n",
        "# Encode binary categorical variables using LabelEncoder\n",
        "binary_vars = ['school', 'sex', 'address', 'famsize', 'Pstatus', 'schoolsup', 'famsup',\n",
        "               'paid', 'activities', 'nursery', 'higher', 'internet', 'romantic']\n",
        "for var in binary_vars:\n",
        "    le = LabelEncoder()\n",
        "    df[var] = le.fit_transform(df[var])\n",
        "\n",
        "# Encode nominal categorical variables using get_dummies\n",
        "nominal_vars = ['Mjob', 'Fjob', 'reason', 'guardian']\n",
        "df = pd.get_dummies(df, columns=nominal_vars, drop_first=True)\n",
        "\n",
        "# Normalize numeric values\n",
        "numeric_features = df.select_dtypes(include=['int64', 'float64']).columns.tolist()\n",
        "numeric_features.remove('G3')\n",
        "scaler = StandardScaler()\n",
        "df[numeric_features] = scaler.fit_transform(df[numeric_features])\n"
      ],
      "metadata": {
        "id": "_vLUNFfgOn3D"
      },
      "execution_count": null,
      "outputs": []
    },
    {
      "cell_type": "code",
      "source": [
        "# Preparing the data again\n",
        "X = df.drop(['G3'], axis=1)\n",
        "y = df['G3']\n",
        "X_train, X_test, y_train, y_test = train_test_split(X, y, test_size=0.2, random_state=42)"
      ],
      "metadata": {
        "id": "C3bP7uNfPiLA"
      },
      "execution_count": null,
      "outputs": []
    },
    {
      "cell_type": "code",
      "source": [
        "from sklearn.ensemble import RandomForestClassifier\n",
        "from sklearn.metrics import accuracy_score\n",
        "\n",
        "# Model training using Random Forest\n",
        "model = RandomForestClassifier(n_estimators=200, random_state=42)\n",
        "model.fit(X_train, y_train)\n",
        "\n",
        "# Predictions and evaluation\n",
        "y_pred = model.predict(X_test)\n",
        "accuracy = accuracy_score(y_test, y_pred)\n",
        "print(\"Accuracy:\", accuracy)\n",
        "\n",
        "from sklearn.metrics import confusion_matrix\n",
        "print(\"Confusion Matrix:\\n\", confusion_matrix(y_test, y_pred))"
      ],
      "metadata": {
        "colab": {
          "base_uri": "https://localhost:8080/"
        },
        "id": "2mqVGHgdVYZq",
        "outputId": "0cfc014d-c48c-401b-9f23-68201148ee77"
      },
      "execution_count": null,
      "outputs": [
        {
          "output_type": "stream",
          "name": "stdout",
          "text": [
            "Accuracy: 0.9617224880382775\n",
            "Confusion Matrix:\n",
            " [[ 14   7]\n",
            " [  1 187]]\n"
          ]
        }
      ]
    },
    {
      "cell_type": "code",
      "source": [],
      "metadata": {
        "id": "9oMfA8mlYGyU"
      },
      "execution_count": null,
      "outputs": []
    },
    {
      "cell_type": "code",
      "source": [],
      "metadata": {
        "id": "0q-Rlv5pfnAQ"
      },
      "execution_count": null,
      "outputs": []
    }
  ]
}